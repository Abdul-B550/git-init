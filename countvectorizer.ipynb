{
  "nbformat": 4,
  "nbformat_minor": 0,
  "metadata": {
    "colab": {
      "provenance": [],
      "authorship_tag": "ABX9TyPG+U75oeTwlAJba7rUYE91",
      "include_colab_link": true
    },
    "kernelspec": {
      "name": "python3",
      "display_name": "Python 3"
    },
    "language_info": {
      "name": "python"
    }
  },
  "cells": [
    {
      "cell_type": "markdown",
      "metadata": {
        "id": "view-in-github",
        "colab_type": "text"
      },
      "source": [
        "<a href=\"https://colab.research.google.com/github/Abdul-B550/git-init/blob/main/countvectorizer.ipynb\" target=\"_parent\"><img src=\"https://colab.research.google.com/assets/colab-badge.svg\" alt=\"Open In Colab\"/></a>"
      ]
    },
    {
      "cell_type": "code",
      "execution_count": 5,
      "metadata": {
        "colab": {
          "base_uri": "https://localhost:8080/"
        },
        "id": "4JSX0Zs7mPVO",
        "outputId": "95e813dd-4ffb-42c1-f45b-894a872ec564"
      },
      "outputs": [
        {
          "output_type": "stream",
          "name": "stderr",
          "text": [
            "[nltk_data] Downloading package punkt to /root/nltk_data...\n",
            "[nltk_data]   Package punkt is already up-to-date!\n",
            "[nltk_data] Downloading package averaged_perceptron_tagger to\n",
            "[nltk_data]     /root/nltk_data...\n",
            "[nltk_data]   Package averaged_perceptron_tagger is already up-to-\n",
            "[nltk_data]       date!\n",
            "[nltk_data] Downloading package stopwords to /root/nltk_data...\n",
            "[nltk_data]   Package stopwords is already up-to-date!\n",
            "[nltk_data] Downloading package wordnet to /root/nltk_data...\n",
            "[nltk_data]   Package wordnet is already up-to-date!\n",
            "[nltk_data] Downloading package punkt_tab to /root/nltk_data...\n",
            "[nltk_data]   Unzipping tokenizers/punkt_tab.zip.\n"
          ]
        }
      ],
      "source": [
        "import nltk\n",
        "nltk.download('punkt')\n",
        "nltk.download('averaged_perceptron_tagger')\n",
        "nltk.download('stopwords')\n",
        "nltk.download('wordnet')\n",
        "\n",
        "from nltk.tokenize import word_tokenize\n",
        "from nltk.tokenize import sent_tokenize\n",
        "from nltk.stem import WordNetLemmatizer\n",
        "nltk.download('punkt_tab') # This line is added to download the required data\n",
        "\n",
        "from nltk.tokenize import word_tokenize\n",
        "\n",
        "\n",
        "\n",
        "lemmatizer = WordNetLemmatizer()\n",
        "\n",
        "from nltk.corpus import stopwords\n",
        "\n",
        "stop_words = set(stopwords.words('english'))\n",
        "\n",
        "import numpy as np\n",
        "import pandas as pd\n",
        "from sklearn.feature_extraction.text import CountVectorizer, TfidfVectorizer\n",
        "from sklearn.model_selection import train_test_split\n",
        "from sklearn.metrics import classification_report, confusion_matrix\n",
        "from sklearn.svm import LinearSVC\n",
        "from sklearn.preprocessing import StandardScaler\n",
        "import matplotlib.pyplot as plt\n",
        "import seaborn as sns\n",
        "\n",
        "!pip install contractions -q\n",
        "import contractions\n",
        "\n",
        "!pip install textacy -q\n",
        "from textacy import preprocessing\n",
        "\n",
        "import re\n",
        "import string"
      ]
    },
    {
      "cell_type": "code",
      "source": [
        "fileIn = \"/content/text_classification_toy_dataset.xlsx\""
      ],
      "metadata": {
        "id": "NlyXnD-xm3XV"
      },
      "execution_count": 6,
      "outputs": []
    },
    {
      "cell_type": "code",
      "source": [
        "df = pd.read_excel( fileIn, index_col=None )\n",
        "\n",
        "text_all = df[\"text\"].to_list()\n",
        "labels = df[\"label\"].to_numpy()\n",
        "\n",
        "print( len(text_all), labels.shape, np.unique(labels), sum(labels==0), sum(labels==1) )"
      ],
      "metadata": {
        "colab": {
          "base_uri": "https://localhost:8080/"
        },
        "id": "wSzitVyAnCS6",
        "outputId": "04f2cc4c-8928-4c5b-e6e1-40903b840712"
      },
      "execution_count": 7,
      "outputs": [
        {
          "output_type": "stream",
          "name": "stdout",
          "text": [
            "1000 (1000,) [0 1] 500 500\n"
          ]
        }
      ]
    },
    {
      "cell_type": "code",
      "source": [
        "# Define function for punctuation removal\n",
        "def f_punctuation_removal(text):\n",
        "    text = re.sub('[%s]' % re.escape(string.punctuation), '', text)\n",
        "    return text\n",
        "\n",
        "# Define function for whitespace normalization\n",
        "def f_whitespace_normalization(text):\n",
        "  text = re.sub('[\\s]+', ' ', text).strip()\n",
        "  return text\n",
        "\n",
        "# Remove contractions\n",
        "text_all = [contractions.fix( text_current, slang=False) for text_current in text_all]\n",
        "\n",
        "# Other steps... (feel free to add/remove as per your informed choice)\n",
        "text_data = []\n",
        "\n",
        "for text_curr in text_all:\n",
        "\n",
        "  # - Tokenize\n",
        "  tokens = word_tokenize(text_curr)\n",
        "\n",
        "  # - Lemmatize\n",
        "  lemmatized_tokens = [lemmatizer.lemmatize(token, pos='v') for token in tokens]\n",
        "\n",
        "  # - Remove stopwords\n",
        "  filtered_tokens = [token for token in lemmatized_tokens if token not in stop_words]\n",
        "\n",
        "  # - Convert from tokens to sentence, lower case, punctuation removal,and append to list\n",
        "  sent = \" \".join( filtered_tokens ).lower()\n",
        "  sent = f_punctuation_removal( sent )\n",
        "\n",
        "  # - Remove hashtags, user handles, emojis, urls, quotation marks, brackets, numbers\n",
        "  sent = preprocessing.replace.hashtags( sent, repl=\" \")\n",
        "  sent = preprocessing.replace.user_handles( sent, repl=\" \")\n",
        "  sent = preprocessing.replace.emojis( sent, repl=\" \")\n",
        "  sent = preprocessing.replace.urls( sent, repl=\" \")\n",
        "\n",
        "  sent = preprocessing.normalize.quotation_marks( sent )\n",
        "  sent = preprocessing.remove.html_tags( sent )\n",
        "  sent = preprocessing.remove.brackets( sent )\n",
        "  sent = re.sub('\"', '', sent)\n",
        "  sent = re.sub(\"'\", '', sent)\n",
        "  sent = preprocessing.replace.numbers( sent, repl=\" \" )\n",
        "\n",
        "  # - Normalize whitespace\n",
        "  sent = f_whitespace_normalization( sent )\n",
        "\n",
        "  # - Append to list\n",
        "  text_data.append( sent )\n",
        "\n"
      ],
      "metadata": {
        "id": "X6CLqSPJnLba"
      },
      "execution_count": 8,
      "outputs": []
    },
    {
      "cell_type": "code",
      "source": [
        "text_Train, text_Test, Labs_Train, Labs_Test = train_test_split(text_data, labels, test_size=0.2, stratify=labels, random_state=0)\n",
        "\n",
        "print( len(text_Train), sum(Labs_Train)/len(Labs_Train), len(text_Test), sum(Labs_Test)/len(Labs_Test) )"
      ],
      "metadata": {
        "colab": {
          "base_uri": "https://localhost:8080/"
        },
        "id": "hDEmPqcsnj-n",
        "outputId": "884b390a-0220-4349-cb63-64ea2e980f38"
      },
      "execution_count": 9,
      "outputs": [
        {
          "output_type": "stream",
          "name": "stdout",
          "text": [
            "800 0.5 200 0.5\n"
          ]
        }
      ]
    },
    {
      "cell_type": "code",
      "source": [
        "vectorizer = CountVectorizer( ngram_range=(1, 2),  # Consider unigrams and bigrams\n",
        "                              max_features=5000  # Limit the number of features to 5000\n",
        "                              )"
      ],
      "metadata": {
        "id": "cHaVir6UnqHV"
      },
      "execution_count": 10,
      "outputs": []
    },
    {
      "cell_type": "code",
      "source": [
        "Feats_Train_countvec = vectorizer.fit_transform( text_Train ).toarray()\n",
        "Feats_Test_countvec = vectorizer.transform( text_Test ).toarray()\n",
        "\n",
        "print( Feats_Train_countvec.shape, Feats_Test_countvec.shape )"
      ],
      "metadata": {
        "colab": {
          "base_uri": "https://localhost:8080/"
        },
        "id": "voJY-TY5nue1",
        "outputId": "db9fc773-e109-43e0-bbba-ef033e7aec9d"
      },
      "execution_count": 11,
      "outputs": [
        {
          "output_type": "stream",
          "name": "stdout",
          "text": [
            "(800, 5000) (200, 5000)\n"
          ]
        }
      ]
    },
    {
      "cell_type": "code",
      "source": [
        "print( np.mean(Feats_Train_countvec[:,0]), np.std(Feats_Train_countvec[:,0]) )"
      ],
      "metadata": {
        "id": "Cy2iz-7ynv0R"
      },
      "execution_count": null,
      "outputs": []
    },
    {
      "cell_type": "code",
      "source": [
        "# Apply standard scaling\n",
        "scaler = StandardScaler()\n",
        "Feats_Train_countvec = scaler.fit_transform( Feats_Train_countvec )\n",
        "Feats_Test_countvec = scaler.transform( Feats_Test_countvec )\n",
        "\n",
        "print( Feats_Train_countvec.shape, Feats_Test_countvec.shape )"
      ],
      "metadata": {
        "colab": {
          "base_uri": "https://localhost:8080/"
        },
        "id": "745UY2AWnym9",
        "outputId": "ac3bd9b5-0e84-4d2f-c0f7-81827e68f92e"
      },
      "execution_count": 12,
      "outputs": [
        {
          "output_type": "stream",
          "name": "stdout",
          "text": [
            "(800, 5000) (200, 5000)\n"
          ]
        }
      ]
    },
    {
      "cell_type": "code",
      "source": [
        "print( np.mean(Feats_Train_countvec[:,0]), np.std(Feats_Train_countvec[:,0]) )"
      ],
      "metadata": {
        "colab": {
          "base_uri": "https://localhost:8080/"
        },
        "id": "1w9OhE4Gn2kl",
        "outputId": "1dfff718-bd42-4d25-b556-71dbcb598619"
      },
      "execution_count": 13,
      "outputs": [
        {
          "output_type": "stream",
          "name": "stdout",
          "text": [
            "1.3322676295501878e-17 1.0000000000000016\n"
          ]
        }
      ]
    },
    {
      "cell_type": "code",
      "source": [
        "clf = LinearSVC( class_weight=\"balanced\", max_iter=100, random_state=0)\n",
        "clf.fit( Feats_Train_countvec, Labs_Train)\n",
        "\n",
        "# Predict the classes of the testing data\n",
        "predLabs_Test = clf.predict( Feats_Test_countvec )\n",
        "\n",
        "# Evaluate the performance of the model using classification metrics\n",
        "print(classification_report( Labs_Test, predLabs_Test ))\n",
        "\n",
        "# Calculate the confusion matrix\n",
        "cm = confusion_matrix( Labs_Test, predLabs_Test)\n",
        "\n",
        "# Plot the confusion matrix\n",
        "plt.figure(figsize=(8, 6))\n",
        "sns.heatmap(cm, annot=True, fmt=\"d\", cmap=\"Blues\")\n",
        "plt.xlabel('Predicted label')\n",
        "plt.ylabel('True label')\n",
        "plt.title('Confusion Matrix - Count Vectorizer')\n",
        "plt.show()"
      ],
      "metadata": {
        "colab": {
          "base_uri": "https://localhost:8080/",
          "height": 720
        },
        "id": "Bdr14qRDn_VP",
        "outputId": "93bd390c-fe53-497e-d345-dbc6f69c1e27"
      },
      "execution_count": 15,
      "outputs": [
        {
          "output_type": "stream",
          "name": "stdout",
          "text": [
            "              precision    recall  f1-score   support\n",
            "\n",
            "           0       0.80      0.73      0.76       100\n",
            "           1       0.75      0.82      0.78       100\n",
            "\n",
            "    accuracy                           0.78       200\n",
            "   macro avg       0.78      0.77      0.77       200\n",
            "weighted avg       0.78      0.78      0.77       200\n",
            "\n"
          ]
        },
        {
          "output_type": "display_data",
          "data": {
            "text/plain": [
              "<Figure size 800x600 with 2 Axes>"
            ],
            "image/png": "[encoded data removed]"
          },
          "metadata": {}
        }
      ]
    },
    {
      "cell_type": "code",
      "source": [],
      "metadata": {
        "id": "u2R1BTsPoCKR"
      },
      "execution_count": null,
      "outputs": []
    }
  ]
}